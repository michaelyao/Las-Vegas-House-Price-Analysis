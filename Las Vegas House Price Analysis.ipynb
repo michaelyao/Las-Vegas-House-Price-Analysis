{
 "cells": [
  {
   "cell_type": "markdown",
   "metadata": {},
   "source": [
    "1.\n",
    "Using the zillow API, provide a data set that will include sale transactions information for single family homes located in the Las Vegas MSA that achieved a sale price between $200,000 and $400,000 in the last 18 months. The information will include all the data fields of the Zillow API, including but not limited to location, age, internal and plot size, layout, amenities etc. See: https://www.zillow.com/howto/api/GetDeepSearchResults.htm\n",
    "We'd like also to find time on market but we're not sure if the Zillow API provides it.\n",
    "\n",
    "Conduct data merge and clean up so that the data is made reliable for modelling purposes.\n",
    "\n",
    "Create a data frame in Python (Pandas or equivalent). Show some initial statistics to visualize and assess the data e.g. quartiles, minimum, max and mean values for the key variables such as floor area, price and features. Snapshot data using plot.ly box plot. Show impacting features.\n",
    "\n",
    "Interpret statistically the data, including at a minimum:\n",
    "Deviation from normal distribution;"
   ]
  },
  {
   "cell_type": "markdown",
   "metadata": {},
   "source": [
    "<b>Data Description\n",
    "<img src=\"images/Numerical Data Description.png\" alt=\"Data Description\" width=\"800\"/>"
   ]
  },
  {
   "cell_type": "markdown",
   "metadata": {},
   "source": [
    "2.\n",
    "\n",
    "Skewness and kurtosis;\n",
    "Seaborn (or equivalent) pairplots to visually show relationships between variables.\n",
    "Seaborn heat maps to plot correlation values between property variables and price.\n",
    "\n",
    "Drop variables with negligible correlations.\n",
    "Zoom into variables with price effects, both log scale and non scaled."
   ]
  },
  {
   "cell_type": "markdown",
   "metadata": {},
   "source": [
    "<b>Last sold price -- before log scale\n",
    "<img src=\"images/probplot-before-log-scale.png\" alt=\"regular scaled last sold price\" width=\"600\"/>"
   ]
  },
  {
   "cell_type": "markdown",
   "metadata": {},
   "source": [
    "<b>Last sold price -- log scaled\n",
    "<img src=\"images/probplot-log-scale.png\" alt=\"log scaled last sold price\" width=\"600\"/>"
   ]
  },
  {
   "cell_type": "markdown",
   "metadata": {},
   "source": [
    "<b>Pairlot Chart\n",
    "<img src=\"images/pairlot_lv.png\" alt=\"Pairlot Chart\" width=\"900\"/>"
   ]
  },
  {
   "cell_type": "markdown",
   "metadata": {},
   "source": [
    "<b>Seaborn Heatmap\n",
    "<img src=\"images/seaborn-heatmap.png\" alt=\"Correlation Heatmap\" width=\"600\"/>"
   ]
  },
  {
   "cell_type": "markdown",
   "metadata": {},
   "source": [
    "3. \n",
    "\n",
    "Analysis:\n",
    "\n",
    "Find to what extent (in %) each data field contributes to the formation of the sale price of units grouped by zip codes and number of bedrooms.\n",
    "\n",
    "Separate data into training set and test set. Use R2 score (or equivalent) to check prediction accuracy.\n",
    "\n",
    "Try a minimum of three different machine learning algorithms/systems, such as regression trees (random and multiple regression), neural networks, support vector machines and select the best performing one based on lowest mean absolute error or other relevant measure.\n",
    "\n"
   ]
  },
  {
   "cell_type": "markdown",
   "metadata": {},
   "source": [
    "3.1\n",
    "<b>XGBoost Result with Zestimation in feature\n",
    "<p>Finale Validation MAE for multi-pass XGBoost Model : <b>13209.818566128175\n",
    "<img src=\"images/XGBost Predictions x Reality on dataset Test with zest.png\" alt=\"XGBoost\" width=\"900\"/>"
   ]
  },
  {
   "cell_type": "markdown",
   "metadata": {},
   "source": [
    "3.2\n",
    "<b>XGBoost Result w/o Zestimation in feature\n",
    "<p>Finale Validation MAE for multi-pass XGBoost Model w/o zest : <b>17017.505402260635\n",
    "<img src=\"images/XGBost Predictions x Reality on dataset Test wo zest.png\" alt=\"XGBoost\" width=\"900\"/>"
   ]
  },
  {
   "cell_type": "markdown",
   "metadata": {},
   "source": [
    "3.3\n",
    "<b>Zest MAE as comparision : <b>19691.43420015762\n",
    "<img src=\"images/Z-Estimation Predictions x Reality on dataset Test.png\" alt=\"XGBoost\" width=\"900\"/>"
   ]
  },
  {
   "cell_type": "markdown",
   "metadata": {},
   "source": [
    "3.4\n",
    "<b>Random Forest Model Result (w/o zest)\n",
    "<p>Finale Validation MAE for Random Forest Model w/o zest : <b>17266.360878336007\n",
    "<img src=\"images/Random Forest Predictions x Reality on dataset Test wo zest.png\" alt=\"Random Forest\" width=\"900\"/>"
   ]
  },
  {
   "cell_type": "code",
   "execution_count": 21,
   "metadata": {},
   "outputs": [
    {
     "ename": "SyntaxError",
     "evalue": "invalid syntax (<ipython-input-21-6a2cd3d3aaaf>, line 1)",
     "output_type": "error",
     "traceback": [
      "\u001b[0;36m  File \u001b[0;32m\"<ipython-input-21-6a2cd3d3aaaf>\"\u001b[0;36m, line \u001b[0;32m1\u001b[0m\n\u001b[0;31m    Variable Importance Analysis from Random Forest.\u001b[0m\n\u001b[0m                      ^\u001b[0m\n\u001b[0;31mSyntaxError\u001b[0m\u001b[0;31m:\u001b[0m invalid syntax\n"
     ]
    }
   ],
   "source": [
    "Variable Importance Analysis from Random Forest.\n",
    "\n",
    "Variable: hf_sqft              Importance: 0.53\n",
    "Variable: addr_longitude       Importance: 0.1\n",
    "Variable: addr_latitude        Importance: 0.05\n",
    "Variable: hf_lot_size          Importance: 0.05\n",
    "Variable: hf_year_built        Importance: 0.04\n",
    "Variable: images_count         Importance: 0.04\n",
    "Variable: sch_high_Palo Verde  Importance: 0.02\n",
    "Variable: hoa_month            Importance: 0.01\n",
    "Variable: addr_zipcode         Importance: 0.01\n",
    "Variable: hf_bathrooms         Importance: 0.01\n",
    "Variable: hf_num_rooms         Importance: 0.01\n",
    "Variable: hf_bedrooms          Importance: 0.0"
   ]
  },
  {
   "cell_type": "markdown",
   "metadata": {},
   "source": [
    "3.5\n",
    "<b>Support Vector Regression Model Result (w/o zest)\n",
    "<p>Finale Validation MAE for Support Vector Regression w/o zest : <b>24593.699881529938\n",
    "<img src=\"images/las_vegas_24_mo_sold_sfh_svr_wo_zest.png\" alt=\"Support Vector Regression\" width=\"900\"/>"
   ]
  },
  {
   "cell_type": "code",
   "execution_count": null,
   "metadata": {},
   "outputs": [],
   "source": []
  }
 ],
 "metadata": {
  "kernelspec": {
   "display_name": "conda_ven_3.7",
   "language": "python",
   "name": "conda_ven_3.7"
  },
  "language_info": {
   "codemirror_mode": {
    "name": "ipython",
    "version": 3
   },
   "file_extension": ".py",
   "mimetype": "text/x-python",
   "name": "python",
   "nbconvert_exporter": "python",
   "pygments_lexer": "ipython3",
   "version": "3.7.3"
  }
 },
 "nbformat": 4,
 "nbformat_minor": 2
}
